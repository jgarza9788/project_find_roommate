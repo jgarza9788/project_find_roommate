{
 "cells": [
  {
   "cell_type": "markdown",
   "metadata": {},
   "source": [
    "# competition_report.ipynb\n",
    "pulls data from craigslist and generate reports."
   ]
  },
  {
   "cell_type": "markdown",
   "metadata": {},
   "source": [
    "## create and activate environment\n",
    "\n",
    "### run this in terminal\n",
    "```bat\n",
    "conda create -n compr \n",
    "conda activate compr\n",
    "pip install bs4\n",
    "```\n",
    "\n",
    "### or just activate environment\n",
    "```bat\n",
    "conda activate compr\n",
    "```\n",
    "\n",
    "### documentation for python-craigslist\n",
    "https://pypi.org/project/python-craigslist/"
   ]
  },
  {
   "cell_type": "markdown",
   "metadata": {},
   "source": [
    "## get data"
   ]
  },
  {
   "cell_type": "code",
   "execution_count": 1,
   "metadata": {},
   "outputs": [],
   "source": [
    "import pandas as pd\n",
    "\n",
    "pd.set_option('display.max_columns', None)\n",
    "pd.set_option('display.max_rows', None)\n",
    "# pd.set_option('display.min_rows', 100)\n",
    "\n",
    "from craigslist import CraigslistServices\n",
    "%matplotlib inline\n",
    "\n"
   ]
  },
  {
   "cell_type": "code",
   "execution_count": 2,
   "metadata": {},
   "outputs": [
    {
     "name": "stdout",
     "output_type": "stream",
     "text": [
      "CraigslistServices categories:\n",
      "* aos = automotive services\n",
      "* bts = beauty services\n",
      "* cms = cell phone / mobile services\n",
      "* cps = computer services\n",
      "* crs = creative services\n",
      "* cys = cycle services\n",
      "* evs = event services\n",
      "* fgs = farm & garden services\n",
      "* fns = financial services\n",
      "* hws = health/wellness services\n",
      "* hss = household services\n",
      "* lbs = labor / hauling / moving\n",
      "* lgs = legal services\n",
      "* lss = lessons & tutoring\n",
      "* mas = marine services\n",
      "* pas = pet services\n",
      "* rts = real estate services\n",
      "* sks = skilled trade services\n",
      "* biz = small biz ads\n",
      "* trv = travel/vacation services\n",
      "* wet = writing / editing / translation\n"
     ]
    }
   ],
   "source": [
    "CraigslistServices.show_categories()"
   ]
  },
  {
   "cell_type": "code",
   "execution_count": 14,
   "metadata": {},
   "outputs": [],
   "source": [
    "def clr_to_df(clr):\n",
    "    t = []\n",
    "    for result in cl_h.get_results(sort_by='newest', geotagged=True):\n",
    "        t.append(result)\n",
    "    return pd.DataFrame(t)"
   ]
  },
  {
   "cell_type": "code",
   "execution_count": 15,
   "metadata": {},
   "outputs": [],
   "source": [
    "from craigslist import CraigslistHousing\n",
    "cl_h = CraigslistHousing(site='charlotte',category='roo',\n",
    "                        filters={\n",
    "                            'max_price': 5000, \n",
    "                            'min_price':500, \n",
    "                            'private_room': True,\n",
    "                            'private_bath': True,\n",
    "                            # 'dogs_ok':1,\n",
    "                            # 'cats_ok':1,\n",
    "                            })\n",
    "df = clr_to_df(cl_h)\n",
    "\n",
    "cl_h = CraigslistHousing(site='charlotte', area='charlotte', category='roo',\n",
    "                        filters={\n",
    "                            'max_price': 5000, \n",
    "                            'min_price':500, \n",
    "                            'private_room': True,\n",
    "                            'private_bath': True,\n",
    "                            'dogs_ok':1,\n",
    "                            # 'cats_ok':1,\n",
    "                            })\n",
    "df_d = clr_to_df(cl_h)\n",
    "\n"
   ]
  },
  {
   "cell_type": "code",
   "execution_count": 25,
   "metadata": {},
   "outputs": [],
   "source": [
    "def dollar_to_int(x):\n",
    "    try:\n",
    "        x = x.replace('$','')\n",
    "        x = x.replace(',','')\n",
    "        return int(x)\n",
    "    except:\n",
    "        return x"
   ]
  },
  {
   "cell_type": "code",
   "execution_count": 26,
   "metadata": {},
   "outputs": [
    {
     "name": "stdout",
     "output_type": "stream",
     "text": [
      "***no dog***\n",
      "count     160.000000\n",
      "mean     1088.925000\n",
      "std       306.636953\n",
      "min       500.000000\n",
      "25%       891.250000\n",
      "50%      1097.500000\n",
      "75%      1212.500000\n",
      "max      2595.000000\n",
      "Name: price, dtype: float64\n",
      "\n",
      "***with dog***\n",
      "count      16.000000\n",
      "mean     1317.000000\n",
      "std       480.178161\n",
      "min       700.000000\n",
      "25%      1071.250000\n",
      "50%      1242.500000\n",
      "75%      1502.000000\n",
      "max      2595.000000\n",
      "Name: price, dtype: float64\n"
     ]
    }
   ],
   "source": [
    "\n",
    "# display(len(df))\n",
    "# display(df.head(10))\n",
    "# df.to_csv('data.csv')\n",
    "\n",
    "df['price'] = df['price'].apply(dollar_to_int)\n",
    "df_d['price'] = df_d['price'].apply(dollar_to_int)\n",
    "\n",
    "print('***no dog***')\n",
    "print(df['price'].describe())\n",
    "print('')\n",
    "print('***with dog***')\n",
    "print(df_d['price'].describe())\n"
   ]
  },
  {
   "cell_type": "code",
   "execution_count": 27,
   "metadata": {},
   "outputs": [],
   "source": [
    "\n",
    "\n",
    "def pivotize(_df):\n",
    "    dp = pd.pivot_table(\n",
    "        _df, \n",
    "        index=['price'],\n",
    "        aggfunc=len\n",
    "        )\n",
    "    dp = dp.reset_index()\n",
    "    dp = dp[['price','name']]\n",
    "    # dp['price'] = dp['price'].apply(dollar_to_int)\n",
    "    dp = dp.rename(columns={'name':'count'})\n",
    "    dp = dp.sort_values(by=['price'],ascending=False)\n",
    "    # display(df_pivot)\n",
    "    return dp\n",
    "\n",
    "df_pivot = pivotize(df)\n",
    "dfd_pivot = pivotize(df_d)\n",
    "\n"
   ]
  },
  {
   "cell_type": "code",
   "execution_count": 28,
   "metadata": {},
   "outputs": [],
   "source": [
    "def break_down_buckets(idf,column,buckets,message='',nan_value=-1):\n",
    "    \"\"\"\n",
    "    breaks a column down into buckets/bins\n",
    "    \"\"\"\n",
    "    idf = idf.fillna(nan_value)\n",
    "\n",
    "    print('',message,'\\ncolumn: ',column, '\\nbuckets: ', buckets)\n",
    "    \n",
    "    idf = pd.DataFrame(idf[column])\n",
    "    idf['bucket'] = pd.cut(idf[column], bins=buckets)\n",
    "    idf = idf.groupby(by='bucket').count()\n",
    "    idf['percent'] = (idf[column]/idf[column].sum())*100\n",
    "    idf['percent'] = idf['percent'].round(2)\n",
    "    # display(idf)\n",
    "    return idf"
   ]
  },
  {
   "cell_type": "code",
   "execution_count": 49,
   "metadata": {},
   "outputs": [
    {
     "name": "stdout",
     "output_type": "stream",
     "text": [
      "  \n",
      "column:  price \n",
      "buckets:  [200, 300, 400, 500, 600, 700, 800, 900, 1000, 1100, 1200, 1300, 1400, 1500, 1600, 1700, 1800, 1900]\n"
     ]
    },
    {
     "data": {
      "text/plain": [
       "<AxesSubplot:xlabel='bucket'>"
      ]
     },
     "execution_count": 49,
     "metadata": {},
     "output_type": "execute_result"
    },
    {
     "data": {
      "image/png": "[encoded data removed]",
      "text/plain": [
       "<Figure size 432x288 with 1 Axes>"
      ]
     },
     "metadata": {
      "needs_background": "light"
     },
     "output_type": "display_data"
    }
   ],
   "source": [
    "buckets = list(range(200,2000,100))\n",
    "# print(buckets)\n",
    "df_bucket = break_down_buckets(df_pivot,'price',buckets)\n",
    "df_bucket['price'].plot.bar()\n",
    "# print('\\n')\n",
    "# print('\\n' + '-'*25 + '\\n')\n",
    "# df_bucket['percent'].plot.bar()\n",
    "# print('\\n' + '-'*25 + '\\n')"
   ]
  },
  {
   "cell_type": "code",
   "execution_count": 50,
   "metadata": {},
   "outputs": [
    {
     "name": "stdout",
     "output_type": "stream",
     "text": [
      "  \n",
      "column:  price \n",
      "buckets:  [200, 300, 400, 500, 600, 700, 800, 900, 1000, 1100, 1200, 1300, 1400, 1500, 1600, 1700, 1800, 1900]\n"
     ]
    },
    {
     "data": {
      "text/plain": [
       "<AxesSubplot:xlabel='bucket'>"
      ]
     },
     "execution_count": 50,
     "metadata": {},
     "output_type": "execute_result"
    },
    {
     "data": {
      "image/png": "[encoded data removed]",
      "text/plain": [
       "<Figure size 432x288 with 1 Axes>"
      ]
     },
     "metadata": {
      "needs_background": "light"
     },
     "output_type": "display_data"
    }
   ],
   "source": [
    "buckets = list(range(200,2000,100))\n",
    "# print(buckets)\n",
    "df_bucket = break_down_buckets(dfd_pivot,'price',buckets)\n",
    "df_bucket['price'].plot.bar()\n",
    "# df_bucket['percent'].plot.bar()"
   ]
  }
 ],
 "metadata": {
  "interpreter": {
   "hash": "992c013b3ae59f22577bec86ad817a488031739ad4996035f40d4210821c3ab0"
  },
  "kernelspec": {
   "display_name": "Python 3.9.7 64-bit ('compr': conda)",
   "name": "python3"
  },
  "language_info": {
   "codemirror_mode": {
    "name": "ipython",
    "version": 3
   },
   "file_extension": ".py",
   "mimetype": "text/x-python",
   "name": "python",
   "nbconvert_exporter": "python",
   "pygments_lexer": "ipython3",
   "version": "3.9.7"
  },
  "orig_nbformat": 4
 },
 "nbformat": 4,
 "nbformat_minor": 2
}
